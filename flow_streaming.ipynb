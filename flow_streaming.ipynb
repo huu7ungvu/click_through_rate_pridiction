{
 "cells": [
  {
   "cell_type": "code",
   "execution_count": 1,
   "metadata": {},
   "outputs": [],
   "source": [
    "from pyspark.sql import SparkSession\n",
    "from pyspark.sql.functions import *\n",
    "\n",
    "import time\n",
    "from pyspark.sql.types import *\n",
    "from pyspark.sql.functions import *\n",
    "from pyspark.sql import SparkSession\n",
    "\n",
    "# from pyspark.ml import Pipeline\n",
    "# from pyspark.ml.classification import DecisionTreeClassifier, FMClassifier\n",
    "from pyspark.ml.classification import RandomForestClassifier,  LogisticRegression , NaiveBayes, MultilayerPerceptronClassifier\n",
    "# from pyspark.ml.feature import VectorAssembler, StringIndexer, VectorIndexer, MinMaxScaler, IndexToString, OneHotEncoder\n",
    "# from pyspark.ml.classification import LogisticRegression\n",
    "# from pyspark.ml.tuning import ParamGridBuilder, CrossValidator\n",
    "# from pyspark.ml.evaluation import BinaryClassificationEvaluator\n",
    "from pyspark.ml.tuning import  CrossValidatorModel\n",
    "\n",
    "from pyspark.ml.pipeline import PipelineModel\n",
    "from pyspark.sql.functions import col\n",
    "# import preperation as Pp"
   ]
  },
  {
   "cell_type": "code",
   "execution_count": 2,
   "metadata": {},
   "outputs": [],
   "source": [
    "# # spark = SparkSession \\\n",
    "# #         .builder \\\n",
    "# #         .appName(\"PySpark Structured Streaming with Kafka and Message Format as JSON\") \\\n",
    "# #         .master(\"local[*]\") \\\n",
    "# #         .getOrCreate()\n",
    "# # Tạo một phiên Spark mới\n",
    "spark = SparkSession.builder.appName(\"CTR Prediction\").getOrCreate()\n",
    "# spark = SparkSession\\\n",
    "#     .builder\\\n",
    "#     .appName(\"MachineLearningTesting\")\\\n",
    "#     .master(\"local[1]\")\\\n",
    "#     .getOrCreate()\n",
    "# spark = SparkSession.builder \\\n",
    "#     .master(\"local\") \\\n",
    "#     .appName(\"Word Count\") \\\n",
    "#     .config(\"spark.some.config.option\", \"some-value\") \\\n",
    "#     .getOrCreate()"
   ]
  },
  {
   "cell_type": "code",
   "execution_count": 3,
   "metadata": {},
   "outputs": [
    {
     "name": "stdout",
     "output_type": "stream",
     "text": [
      "Hadoop version = 3.2.0\n"
     ]
    }
   ],
   "source": [
    "print(f\"Hadoop version = {spark._jvm.org.apache.hadoop.util.VersionInfo.getVersion()}\")"
   ]
  },
  {
   "cell_type": "code",
   "execution_count": 5,
   "metadata": {},
   "outputs": [],
   "source": [
    "model = CrossValidatorModel.read().load(\"D:/ITfiles/PythonFiles/Spark/prj/model\")\n",
    "#model = PipelineModel.load(\"D:/ITfiles/PythonFiles/Spark/prj/model/bestModel\")"
   ]
  },
  {
   "cell_type": "code",
   "execution_count": null,
   "metadata": {},
   "outputs": [],
   "source": []
  }
 ],
 "metadata": {
  "kernelspec": {
   "display_name": "Python 3",
   "language": "python",
   "name": "python3"
  },
  "language_info": {
   "codemirror_mode": {
    "name": "ipython",
    "version": 3
   },
   "file_extension": ".py",
   "mimetype": "text/x-python",
   "name": "python",
   "nbconvert_exporter": "python",
   "pygments_lexer": "ipython3",
   "version": "3.9.4"
  },
  "orig_nbformat": 4
 },
 "nbformat": 4,
 "nbformat_minor": 2
}
