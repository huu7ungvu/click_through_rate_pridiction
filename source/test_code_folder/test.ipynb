{
 "cells": [
  {
   "cell_type": "code",
   "execution_count": 1,
   "metadata": {},
   "outputs": [],
   "source": [
    "from pyspark.sql import SparkSession\n",
    "from pyspark.ml import Pipeline\n",
    "from pyspark.ml.feature import StringIndexer, VectorAssembler\n",
    "from pyspark.ml.classification import LogisticRegression, RandomForestClassifier, GBTClassifier\n",
    "from pyspark.ml.evaluation import BinaryClassificationEvaluator"
   ]
  },
  {
   "cell_type": "code",
   "execution_count": 2,
   "metadata": {},
   "outputs": [],
   "source": [
    "# Tạo một phiên Spark mới\n",
    "spark = SparkSession.builder.appName(\"CTR Prediction\").getOrCreate()\n",
    "\n",
    "# Đọc dữ liệu từ tập tin CSV và tạo một DataFrame\n",
    "train = spark.read.format(\"csv\").option(\"header\", \"true\").load(\"train.csv\")\n",
    "\n",
    "test= spark.read.format(\"csv\").option(\"header\", \"true\").load(\"test.csv\")"
   ]
  },
  {
   "cell_type": "code",
   "execution_count": 3,
   "metadata": {},
   "outputs": [],
   "source": [
    "from pyspark.sql.functions import floor,col"
   ]
  },
  {
   "cell_type": "code",
   "execution_count": 4,
   "metadata": {},
   "outputs": [],
   "source": [
    "train = train.withColumn(\"day\", floor(col(\"hour\") / 1000000))\n",
    "train = train.withColumn(\"dow\", floor((col(\"hour\") / 1000000) % 7))\n",
    "train = train.withColumn(\"time\", (col(\"hour\") % 10000) / 100)\n",
    "\n",
    "test = test.withColumn(\"day\", floor(col(\"hour\") / 1000000))\n",
    "test = test.withColumn(\"dow\", floor((col(\"hour\") / 1000000) % 7))\n",
    "test = test.withColumn(\"time\", (col(\"hour\") % 10000) / 100)"
   ]
  },
  {
   "cell_type": "code",
   "execution_count": 6,
   "metadata": {},
   "outputs": [],
   "source": [
    "from pyspark.sql.functions import stddev, mean, col\n",
    "\n",
    "for col_name in ['C18', 'C20', 'C21']:\n",
    "    # calculate mean and standard deviation\n",
    "    col_mean = train.select(mean(col(col_name))).collect()[0][0]\n",
    "    col_stddev = train.select(stddev(col(col_name))).collect()[0][0]\n",
    "    \n",
    "    # keep only values within 3 standard deviations from the mean\n",
    "    train = train.filter((col(col_name) >= col_mean - 3 * col_stddev) & (col(col_name) <= col_mean + 3 * col_stddev))\n",
    "    test = test.filter((col(col_name) >= col_mean - 3 * col_stddev) & (col(col_name) <= col_mean + 3 * col_stddev))"
   ]
  },
  {
   "cell_type": "code",
   "execution_count": 8,
   "metadata": {},
   "outputs": [],
   "source": [
    "from pyspark.sql.functions import concat_ws, col\n",
    "\n",
    "# create new columns by concatenating values from multiple columns\n",
    "train = train.withColumn(\"site\", concat_ws(\"\", col(\"site_id\"), col(\"site_domain\"), col(\"site_category\")))\n",
    "train = train.withColumn(\"app\", concat_ws(\"\", col(\"app_id\"), col(\"app_domain\"), col(\"app_category\")))\n",
    "train = train.withColumn(\"device\", concat_ws(\"\", col(\"device_id\"), col(\"device_ip\"), col(\"device_model\")))\n",
    "train = train.withColumn(\"type\", concat_ws(\"\", col(\"device_type\"), col(\"device_conn_type\")))\n",
    "train = train.withColumn(\"C\", col(\"C14\") + col(\"C15\") + col(\"C16\") + col(\"C17\") + col(\"C19\"))\n",
    "\n",
    "test = test.withColumn(\"site\", concat_ws(\"\", col(\"site_id\"), col(\"site_domain\"), col(\"site_category\")))\n",
    "test = test.withColumn(\"app\", concat_ws(\"\", col(\"app_id\"), col(\"app_domain\"), col(\"app_category\")))\n",
    "test = test.withColumn(\"device\", concat_ws(\"\", col(\"device_id\"), col(\"device_ip\"), col(\"device_model\")))\n",
    "test = test.withColumn(\"type\", concat_ws(\"\", col(\"device_type\"), col(\"device_conn_type\")))\n",
    "test = test.withColumn(\"C\", col(\"C14\") + col(\"C15\") + col(\"C16\") + col(\"C17\") + col(\"C19\"))"
   ]
  },
  {
   "cell_type": "code",
   "execution_count": 12,
   "metadata": {},
   "outputs": [],
   "source": [
    "from pyspark.ml.feature import StringIndexer\n",
    "indexers = [StringIndexer(inputCol=column, outputCol=column+\"_index\") for column in list(x for x in set(train.columns) if x in {'site', 'app', 'device', 'type'})]"
   ]
  },
  {
   "cell_type": "code",
   "execution_count": 13,
   "metadata": {},
   "outputs": [],
   "source": [
    "from pyspark.ml.feature import OneHotEncoder\n",
    "ohe = [OneHotEncoder(inputCol=column, \n",
    "    outputCol=column+\"_index\") \n",
    "    for column in list(x for x in set(train.columns) \n",
    "    if x in {'banner_pos','device_type'})]"
   ]
  },
  {
   "cell_type": "code",
   "execution_count": 14,
   "metadata": {},
   "outputs": [],
   "source": [
    "assembler = VectorAssembler(inputCols=[col+\"_indexed\" for col in list(set(train.columns) - {'click'} )], outputCol=\"features\")"
   ]
  },
  {
   "cell_type": "code",
   "execution_count": 15,
   "metadata": {},
   "outputs": [],
   "source": [
    "lr = LogisticRegression(labelCol=\"click\", featuresCol=\"features\")"
   ]
  },
  {
   "cell_type": "code",
   "execution_count": 16,
   "metadata": {},
   "outputs": [],
   "source": [
    "# Đánh giá hiệu suất của mô hình bằng BinaryClassificationEvaluator\n",
    "evaluator = BinaryClassificationEvaluator(labelCol=\"click\")"
   ]
  },
  {
   "cell_type": "code",
   "execution_count": 17,
   "metadata": {},
   "outputs": [],
   "source": [
    "# Tạo pipeline\n",
    "pipeline = Pipeline(stages=indexers + ohe +[assembler, lr])"
   ]
  },
  {
   "cell_type": "code",
   "execution_count": 18,
   "metadata": {},
   "outputs": [],
   "source": [
    "# Chia dữ liệu thành tập huấn luyện và tập kiểm tra theo tỷ lệ 70:30\n",
    "(trainingData, testData) = train.randomSplit([0.7, 0.3], seed=1234)"
   ]
  },
  {
   "cell_type": "code",
   "execution_count": 19,
   "metadata": {},
   "outputs": [
    {
     "ename": "",
     "evalue": "",
     "output_type": "error",
     "traceback": [
      "\u001b[1;31mCannot execute code, session has been disposed. Please try restarting the Kernel."
     ]
    },
    {
     "ename": "",
     "evalue": "",
     "output_type": "error",
     "traceback": [
      "\u001b[1;31mThe Kernel crashed while executing code in the the current cell or a previous cell. Please review the code in the cell(s) to identify a possible cause of the failure. Click <a href='https://aka.ms/vscodeJupyterKernelCrash'>here</a> for more info. View Jupyter <a href='command:jupyter.viewOutput'>log</a> for further details."
     ]
    }
   ],
   "source": [
    "# Huấn luyện pipeline trên tập huấn luyện\n",
    "model = pipeline.fit(trainingData)"
   ]
  },
  {
   "cell_type": "code",
   "execution_count": null,
   "metadata": {},
   "outputs": [],
   "source": []
  }
 ],
 "metadata": {
  "kernelspec": {
   "display_name": "Python 3",
   "language": "python",
   "name": "python3"
  },
  "language_info": {
   "codemirror_mode": {
    "name": "ipython",
    "version": 3
   },
   "file_extension": ".py",
   "mimetype": "text/x-python",
   "name": "python",
   "nbconvert_exporter": "python",
   "pygments_lexer": "ipython3",
   "version": "3.9.4"
  },
  "orig_nbformat": 4
 },
 "nbformat": 4,
 "nbformat_minor": 2
}
