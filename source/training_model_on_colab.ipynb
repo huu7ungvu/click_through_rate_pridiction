{
  "cells": [
    {
      "cell_type": "markdown",
      "source": [
        "# begin"
      ],
      "metadata": {
        "id": "G6D1E_eWZtAg"
      }
    },
    {
      "cell_type": "code",
      "execution_count": null,
      "metadata": {
        "colab": {
          "base_uri": "https://localhost:8080/"
        },
        "id": "-2iJ0a5X-bG_",
        "outputId": "327fdd03-4596-4662-b485-67077e962c3d"
      },
      "outputs": [
        {
          "output_type": "stream",
          "name": "stdout",
          "text": [
            "Collecting pyspark==3.0.1\n",
            "  Downloading pyspark-3.0.1.tar.gz (204.2 MB)\n",
            "\u001b[2K     \u001b[90m━━━━━━━━━━━━━━━━━━━━━━━━━━━━━━━━━━━━━━━\u001b[0m \u001b[32m204.2/204.2 MB\u001b[0m \u001b[31m4.7 MB/s\u001b[0m eta \u001b[36m0:00:00\u001b[0m\n",
            "\u001b[?25h  Preparing metadata (setup.py) ... \u001b[?25l\u001b[?25hdone\n",
            "Collecting py4j==0.10.9 (from pyspark==3.0.1)\n",
            "  Downloading py4j-0.10.9-py2.py3-none-any.whl (198 kB)\n",
            "\u001b[2K     \u001b[90m━━━━━━━━━━━━━━━━━━━━━━━━━━━━━━━━━━━━━━\u001b[0m \u001b[32m198.6/198.6 kB\u001b[0m \u001b[31m18.0 MB/s\u001b[0m eta \u001b[36m0:00:00\u001b[0m\n",
            "\u001b[?25hBuilding wheels for collected packages: pyspark\n",
            "  Building wheel for pyspark (setup.py) ... \u001b[?25l\u001b[?25hdone\n",
            "  Created wheel for pyspark: filename=pyspark-3.0.1-py2.py3-none-any.whl size=204612229 sha256=a9477a47373e899166f8463902485a54ea93af6494bb98efc48ff5596e7adda4\n",
            "  Stored in directory: /root/.cache/pip/wheels/19/b0/c8/6cb894117070e130fc44352c2a13f15b6c27e440d04a84fb48\n",
            "Successfully built pyspark\n",
            "Installing collected packages: py4j, pyspark\n",
            "  Attempting uninstall: py4j\n",
            "    Found existing installation: py4j 0.10.9.7\n",
            "    Uninstalling py4j-0.10.9.7:\n",
            "      Successfully uninstalled py4j-0.10.9.7\n",
            "Successfully installed py4j-0.10.9 pyspark-3.0.1\n"
          ]
        }
      ],
      "source": [
        "!pip install pyspark==3.0.1"
      ]
    },
    {
      "cell_type": "code",
      "source": [
        "! java --version"
      ],
      "metadata": {
        "colab": {
          "base_uri": "https://localhost:8080/"
        },
        "id": "4ZFzqRq4lQ3P",
        "outputId": "5d6c5548-b3c0-4317-cf99-bbf913ecf46d"
      },
      "execution_count": null,
      "outputs": [
        {
          "output_type": "stream",
          "name": "stdout",
          "text": [
            "openjdk 11.0.19 2023-04-18\n",
            "OpenJDK Runtime Environment (build 11.0.19+7-post-Ubuntu-0ubuntu122.04.1)\n",
            "OpenJDK 64-Bit Server VM (build 11.0.19+7-post-Ubuntu-0ubuntu122.04.1, mixed mode, sharing)\n"
          ]
        }
      ]
    },
    {
      "cell_type": "code",
      "execution_count": null,
      "metadata": {
        "id": "XYMtBNo7-zqv",
        "colab": {
          "base_uri": "https://localhost:8080/"
        },
        "outputId": "e2164558-ee77-4222-ae4e-9d479aafa2c4"
      },
      "outputs": [
        {
          "output_type": "stream",
          "name": "stdout",
          "text": [
            "Mounted at /content/drive\n"
          ]
        }
      ],
      "source": [
        "from google.colab import drive\n",
        "drive.mount('/content/drive')"
      ]
    },
    {
      "cell_type": "code",
      "execution_count": null,
      "metadata": {
        "id": "LDa1mx_H-agH"
      },
      "outputs": [],
      "source": [
        "from pyspark.sql import SparkSession\n",
        "from pyspark.ml import Pipeline,PipelineModel\n",
        "from pyspark.ml.feature import StringIndexer, VectorAssembler\n",
        "from pyspark.ml.classification import LogisticRegression, RandomForestClassifier, GBTClassifier\n",
        "from pyspark.ml.evaluation import BinaryClassificationEvaluator\n",
        "from pyspark.sql.functions import col\n",
        "from pyspark.sql.types import StructType, StructField, StringType, IntegerType, TimestampType\n",
        "import random"
      ]
    },
    {
      "cell_type": "code",
      "execution_count": null,
      "metadata": {
        "id": "7IqMzvxV-agJ"
      },
      "outputs": [],
      "source": [
        "# # Reading the input data\n",
        "# import pandas as pd\n",
        "# num_records = 40428967\n",
        "# sample_size = 5000000\n",
        "# skip_values = sorted(random.sample(range(1,num_records), num_records - sample_size))\n",
        "# parse_date = lambda val : pd.datetime.strptime(val, '%y%m%d%H')\n",
        "\n",
        "# train = pd.read_csv(\"/content/drive/MyDrive/data_ctr/train\", parse_dates=['hour'], date_parser=parse_date,\\\n",
        "#                      skiprows=skip_values)"
      ]
    },
    {
      "cell_type": "code",
      "execution_count": null,
      "metadata": {
        "id": "h55-679s-agJ"
      },
      "outputs": [],
      "source": [
        "# train.to_csv('/content/drive/MyDrive/data_ctr/train_cut.csv')"
      ]
    },
    {
      "cell_type": "code",
      "execution_count": null,
      "metadata": {
        "id": "hdjc4aPb-agK"
      },
      "outputs": [],
      "source": [
        "# Tạo một phiên Spark mới\n",
        "spark = SparkSession.builder.appName(\"CTR Prediction\").getOrCreate()"
      ]
    },
    {
      "cell_type": "code",
      "execution_count": null,
      "metadata": {
        "id": "O5eLAr_Y-agK"
      },
      "outputs": [],
      "source": [
        "# num_records = 40428967\n",
        "# sample_size = 10\n",
        "# skip_values = sorted(random.sample(range(1,num_records), num_records - sample_size))\n",
        "schema = StructType([\n",
        "    StructField(\"index\", StringType(), True),\n",
        "    StructField(\"id\", StringType(), True),\n",
        "    StructField(\"click\", IntegerType(), True),\n",
        "    StructField(\"hour\", StringType(), True),\n",
        "    StructField(\"C1\", IntegerType(), True),\n",
        "    StructField(\"banner_pos\", IntegerType(), True),\n",
        "    StructField(\"site_id\", StringType(), True),\n",
        "    StructField(\"site_domain\", StringType(), True),\n",
        "    StructField(\"site_category\", StringType(), True),\n",
        "    StructField(\"app_id\", StringType(), True),\n",
        "    StructField(\"app_domain\", StringType(), True),\n",
        "    StructField(\"app_category\", StringType(), True),\n",
        "    StructField(\"device_id\", StringType(), True),\n",
        "    StructField(\"device_ip\", StringType(), True),\n",
        "    StructField(\"device_model\", StringType(), True),\n",
        "    StructField(\"device_type\", IntegerType(), True),\n",
        "    StructField(\"device_conn_type\", IntegerType(), True),\n",
        "    StructField(\"C14\", IntegerType(), True),\n",
        "    StructField(\"C15\", IntegerType(), True),\n",
        "    StructField(\"C16\", IntegerType(), True),\n",
        "    StructField(\"C17\", IntegerType(), True),\n",
        "    StructField(\"C18\", IntegerType(), True),\n",
        "    StructField(\"C19\", IntegerType(), True),\n",
        "    StructField(\"C20\", IntegerType(), True),\n",
        "    StructField(\"C21\", IntegerType(), True)\n",
        "])\n",
        "\n",
        "train = spark.read.csv(\n",
        "    \"/content/drive/MyDrive/data_ctr/train_cut.csv\",\n",
        "    header=True,\n",
        "    schema=schema,\n",
        "    timestampFormat=\"yyMMddHH\",\n",
        "    nullValue=\"\")\n",
        "    # mode=\"DROPMALFORMED\")\n",
        "# ).filter(~col(\"index\").isin(skip_values))"
      ]
    },
    {
      "cell_type": "code",
      "execution_count": null,
      "metadata": {
        "id": "wvI21PcN-agL"
      },
      "outputs": [],
      "source": [
        "# schema = StructType([\n",
        "#     StructField(\"id\", StringType(), True),\n",
        "#     StructField(\"hour\", StringType(), True),\n",
        "#     StructField(\"C1\", IntegerType(), True),\n",
        "#     StructField(\"banner_pos\", IntegerType(), True),\n",
        "#     StructField(\"site_id\", StringType(), True),\n",
        "#     StructField(\"site_domain\", StringType(), True),\n",
        "#     StructField(\"site_category\", StringType(), True),\n",
        "#     StructField(\"app_id\", StringType(), True),\n",
        "#     StructField(\"app_domain\", StringType(), True),\n",
        "#     StructField(\"app_category\", StringType(), True),\n",
        "#     StructField(\"device_id\", StringType(), True),\n",
        "#     StructField(\"device_ip\", StringType(), True),\n",
        "#     StructField(\"device_model\", StringType(), True),\n",
        "#     StructField(\"device_type\", IntegerType(), True),\n",
        "#     StructField(\"device_conn_type\", IntegerType(), True),\n",
        "#     StructField(\"C14\", IntegerType(), True),\n",
        "#     StructField(\"C15\", IntegerType(), True),\n",
        "#     StructField(\"C16\", IntegerType(), True),\n",
        "#     StructField(\"C17\", IntegerType(), True),\n",
        "#     StructField(\"C18\", IntegerType(), True),\n",
        "#     StructField(\"C19\", IntegerType(), True),\n",
        "#     StructField(\"C20\", IntegerType(), True),\n",
        "#     StructField(\"C21\", IntegerType(), True)\n",
        "# ])\n",
        "\n",
        "# # test= spark.read.format(\"csv\").option(\"header\", \"true\").load(\"test.csv\")\n",
        "# test = spark.read.csv(\n",
        "#     \"/content/drive/MyDrive/data_ctr/test\",\n",
        "#     header=True,\n",
        "#     schema=schema,\n",
        "#     # timestampFormat=\"yyMMddHH\",\n",
        "#     nullValue=\"\",\n",
        "#     # mode=\"DROPMALFORMED\"\n",
        "# )"
      ]
    },
    {
      "cell_type": "code",
      "execution_count": null,
      "metadata": {
        "id": "HFEt8cLx-agL"
      },
      "outputs": [],
      "source": [
        "# # # Đọc dữ liệu từ tập tin CSV và tạo một DataFrame\n",
        "# # train = spark.read.format(\"csv\").option(\"header\", \"true\").load(\"train_cut.csv\")\n",
        "\n",
        "# test_1= spark.read.format(\"csv\").option(\"header\", \"true\").load(\"test.csv\")"
      ]
    },
    {
      "cell_type": "markdown",
      "metadata": {
        "id": "caWN2bWr-agM"
      },
      "source": [
        "# Data preperation"
      ]
    },
    {
      "cell_type": "code",
      "execution_count": null,
      "metadata": {
        "id": "mj3VGs3y-agN",
        "colab": {
          "base_uri": "https://localhost:8080/"
        },
        "outputId": "cfb719c2-edbd-457a-c272-742c4601f661"
      },
      "outputs": [
        {
          "output_type": "stream",
          "name": "stdout",
          "text": [
            "+-----+--------------------+-----+----------+----+----------+--------+-----------+-------------+--------+----------+------------+---------+---------+------------+-----------+----------------+-----+---+---+----+---+---+------+---+-----+---------+---+---------+\n",
            "|index|                  id|click|      hour|  C1|banner_pos| site_id|site_domain|site_category|  app_id|app_domain|app_category|device_id|device_ip|device_model|device_type|device_conn_type|  C14|C15|C16| C17|C18|C19|   C20|C21|month|dayofweek|day|hour_time|\n",
            "+-----+--------------------+-----+----------+----+----------+--------+-----------+-------------+--------+----------+------------+---------+---------+------------+-----------+----------------+-----+---+---+----+---+---+------+---+-----+---------+---+---------+\n",
            "|    0|10000918755742328737|    0|2014-10-21|1005|         1|e151e245|   7e091613|     f028772b|ecad2386|  7801e8d9|    07d7df22| a99f214a| e6f67278|    be74e6fe|          1|               0|20632|320| 50|2374|  3| 39|    -1| 23|   10|        3| 21|        0|\n",
            "|    1|10002028568167339219|    0|2014-10-21|1005|         0|9e8cf15d|   0d3cb7be|     f028772b|ecad2386|  7801e8d9|    07d7df22| a99f214a| 58811cdf|    8326c04b|          1|               2|20596|320| 50|2161|  0| 35|100148|157|   10|        3| 21|        0|\n",
            "|    2|10006557235872316145|    0|2014-10-21|1005|         0|1fbe01fe|   f3845767|     28905ebd|ecad2386|  7801e8d9|    07d7df22| a99f214a| ac77b71a|    d787e91b|          1|               0|15699|320| 50|1722|  0| 35|    -1| 79|   10|        3| 21|        0|\n",
            "|    3|10006629065800243858|    0|2014-10-21|1005|         0|543a539e|   c7ca3108|     3e814130|ecad2386|  7801e8d9|    07d7df22| a99f214a| 6769bdb2|    d787e91b|          1|               0|20362|320| 50|2333|  0| 39|    -1|157|   10|        3| 21|        0|\n",
            "|    4|10006958186789044052|    1|2014-10-21|1005|         0|85f751fd|   c4e18dd6|     50e219e0|0acbeaa3|  45a51db4|    f95efa07| a99f214a| ce6e6bbd|    2cd8ff6d|          1|               0|18993|320| 50|2161|  0| 35|100034|157|   10|        3| 21|        0|\n",
            "+-----+--------------------+-----+----------+----+----------+--------+-----------+-------------+--------+----------+------------+---------+---------+------------+-----------+----------------+-----+---+---+----+---+---+------+---+-----+---------+---+---------+\n",
            "only showing top 5 rows\n",
            "\n"
          ]
        }
      ],
      "source": [
        "# tách cột hour ra 4 cột mới\n",
        "from pyspark.sql.functions import month, dayofweek, dayofmonth, hour\n",
        "\n",
        "train = train.withColumn(\"month\", month(\"hour\"))\n",
        "train = train.withColumn(\"dayofweek\", dayofweek(\"hour\"))\n",
        "train = train.withColumn(\"day\", dayofmonth(\"hour\"))\n",
        "train = train.withColumn(\"hour_time\", hour(\"hour\"))\n",
        "train.show(5)"
      ]
    },
    {
      "cell_type": "code",
      "execution_count": null,
      "metadata": {
        "id": "VljxfwdB-agO",
        "colab": {
          "base_uri": "https://localhost:8080/"
        },
        "outputId": "3684b69b-20f2-48e3-9eea-5345afd995cd"
      },
      "outputs": [
        {
          "output_type": "stream",
          "name": "stdout",
          "text": [
            "+-----+--------------------+-----+----------+----+----------+--------+-----------+-------------+--------+----------+------------+---------+---------+------------+-----------+----------------+-----+---+---+----+---+---+------+---+-----+---------+---+---------+\n",
            "|index|                  id|click|      hour|  C1|banner_pos| site_id|site_domain|site_category|  app_id|app_domain|app_category|device_id|device_ip|device_model|device_type|device_conn_type|  C14|C15|C16| C17|C18|C19|   C20|C21|month|dayofweek|day|hour_time|\n",
            "+-----+--------------------+-----+----------+----+----------+--------+-----------+-------------+--------+----------+------------+---------+---------+------------+-----------+----------------+-----+---+---+----+---+---+------+---+-----+---------+---+---------+\n",
            "|    0|10000918755742328737|    0|2014-10-21|1005|         1|e151e245|   7e091613|     f028772b|ecad2386|  7801e8d9|    07d7df22| a99f214a| e6f67278|    be74e6fe|          1|               0|20632|320| 50|2374|  3| 39|    -1| 23|   10|        3| 21|        0|\n",
            "|    1|10002028568167339219|    0|2014-10-21|1005|         0|9e8cf15d|   0d3cb7be|     f028772b|ecad2386|  7801e8d9|    07d7df22| a99f214a| 58811cdf|    8326c04b|          1|               2|20596|320| 50|2161|  0| 35|100148|157|   10|        3| 21|        0|\n",
            "|    2|10006557235872316145|    0|2014-10-21|1005|         0|1fbe01fe|   f3845767|     28905ebd|ecad2386|  7801e8d9|    07d7df22| a99f214a| ac77b71a|    d787e91b|          1|               0|15699|320| 50|1722|  0| 35|    -1| 79|   10|        3| 21|        0|\n",
            "|    3|10006629065800243858|    0|2014-10-21|1005|         0|543a539e|   c7ca3108|     3e814130|ecad2386|  7801e8d9|    07d7df22| a99f214a| 6769bdb2|    d787e91b|          1|               0|20362|320| 50|2333|  0| 39|    -1|157|   10|        3| 21|        0|\n",
            "|    4|10006958186789044052|    1|2014-10-21|1005|         0|85f751fd|   c4e18dd6|     50e219e0|0acbeaa3|  45a51db4|    f95efa07| a99f214a| ce6e6bbd|    2cd8ff6d|          1|               0|18993|320| 50|2161|  0| 35|100034|157|   10|        3| 21|        0|\n",
            "+-----+--------------------+-----+----------+----+----------+--------+-----------+-------------+--------+----------+------------+---------+---------+------------+-----------+----------------+-----+---+---+----+---+---+------+---+-----+---------+---+---------+\n",
            "only showing top 5 rows\n",
            "\n"
          ]
        }
      ],
      "source": [
        "# dealing with outliers by capping\n",
        "from pyspark.sql.functions import col, when\n",
        "\n",
        "cols = ['C15', 'C16', 'C19', 'C21']\n",
        "for col_name in cols:\n",
        "    quantile_val = train.approxQuantile(col_name, [0.98], 0.25)[0]\n",
        "    if quantile_val < 0.5 * train.select(col_name).rdd.max()[0]:\n",
        "        train = train.withColumn(col_name, when(col(col_name) >= quantile_val, quantile_val).otherwise(col(col_name)))\n",
        "\n",
        "train.show(5)"
      ]
    },
    {
      "cell_type": "code",
      "execution_count": null,
      "metadata": {
        "id": "Qf9tl7IZ-agO",
        "colab": {
          "base_uri": "https://localhost:8080/"
        },
        "outputId": "8ce08756-d634-4a2f-b6aa-64da7eb5657f"
      },
      "outputs": [
        {
          "output_type": "stream",
          "name": "stdout",
          "text": [
            "+---+----+----------+--------+-----------+-------------+--------+----------+------------+---------+---------+------------+-----------+----------------+-----+---+---+----+---+---+------+---+\n",
            "|  y|  C1|banner_pos| site_id|site_domain|site_category|  app_id|app_domain|app_category|device_id|device_ip|device_model|device_type|device_conn_type|  C14|C15|C16| C17|C18|C19|   C20|C21|\n",
            "+---+----+----------+--------+-----------+-------------+--------+----------+------------+---------+---------+------------+-----------+----------------+-----+---+---+----+---+---+------+---+\n",
            "|  0|1005|         1|e151e245|   7e091613|     f028772b|ecad2386|  7801e8d9|    07d7df22| a99f214a| e6f67278|    be74e6fe|          1|               0|20632|320| 50|2374|  3| 39|    -1| 23|\n",
            "|  0|1005|         0|9e8cf15d|   0d3cb7be|     f028772b|ecad2386|  7801e8d9|    07d7df22| a99f214a| 58811cdf|    8326c04b|          1|               2|20596|320| 50|2161|  0| 35|100148|157|\n",
            "|  0|1005|         0|1fbe01fe|   f3845767|     28905ebd|ecad2386|  7801e8d9|    07d7df22| a99f214a| ac77b71a|    d787e91b|          1|               0|15699|320| 50|1722|  0| 35|    -1| 79|\n",
            "|  0|1005|         0|543a539e|   c7ca3108|     3e814130|ecad2386|  7801e8d9|    07d7df22| a99f214a| 6769bdb2|    d787e91b|          1|               0|20362|320| 50|2333|  0| 39|    -1|157|\n",
            "|  1|1005|         0|85f751fd|   c4e18dd6|     50e219e0|0acbeaa3|  45a51db4|    f95efa07| a99f214a| ce6e6bbd|    2cd8ff6d|          1|               0|18993|320| 50|2161|  0| 35|100034|157|\n",
            "+---+----+----------+--------+-----------+-------------+--------+----------+------------+---------+---------+------------+-----------+----------------+-----+---+---+----+---+---+------+---+\n",
            "only showing top 5 rows\n",
            "\n"
          ]
        }
      ],
      "source": [
        "# id column have a unique columns so, keeping that don't proive any significance,hence dropping.\n",
        "# hour column have been derived into different columns, hence dropping.\n",
        "# rename click to y (output)\n",
        "# after dropping hour column, hour_time can be made as hour\n",
        "\n",
        "from pyspark.sql.functions import col\n",
        "\n",
        "train = train.drop(\"id\").drop(\"hour\").drop(\"index\")\n",
        "train = train.withColumnRenamed(\"click\", \"y\").withColumnRenamed(\"hour_time\", \"hour\")\n",
        "train.show(5)"
      ]
    },
    {
      "cell_type": "markdown",
      "metadata": {
        "id": "eNlG8Jjp-agO"
      },
      "source": [
        "# teslogistic regression\n",
        "-> chia giữ liệu train test -> tạo pipeline"
      ]
    },
    {
      "cell_type": "code",
      "execution_count": null,
      "metadata": {
        "id": "7CU8Xgdo-agP"
      },
      "outputs": [],
      "source": [
        "# # function\n",
        "# from pyspark.sql import functions as F\n",
        "# def target_mean_encoding(df, col, target):\n",
        "#     \"\"\"\n",
        "#     :param df: pyspark.sql.dataframe\n",
        "#         dataframe to apply target mean encoding\n",
        "#     :param col: str list\n",
        "#         list of columns to apply target encoding\n",
        "#     :param target: str\n",
        "#         target column\n",
        "#     :return:\n",
        "#         dataframe with target encoded columns\n",
        "#     \"\"\"\n",
        "#     target_encoded_columns_list = []\n",
        "#     for c in col:\n",
        "#         print(c)\n",
        "#         means = df.groupby(F.col(c)).agg(F.mean(target).alias(f\"{c}_mean_encoding\"))\n",
        "#         dict_ = means.toPandas().to_dict()\n",
        "#         target_encoded_columns = [F.when(F.col(c) == v, encoder)\n",
        "#                                   for v, encoder in zip(dict_[c].values(),\n",
        "#                                                         dict_[f\"{c}_mean_encoding\"].values())]\n",
        "#         target_encoded_columns_list.append(F.coalesce(*target_encoded_columns).alias(f\"{c}_mean_encoding\"))\n",
        "#     return df.select(target, *target_encoded_columns_list)\n"
      ]
    },
    {
      "cell_type": "code",
      "execution_count": null,
      "metadata": {
        "id": "e66OJy1i-agP"
      },
      "outputs": [],
      "source": [
        "# # chọn thuộc tính + encode, bỏ 'device_id'\n",
        "# #'site_id','site_domain','site_category','app_id','app_domain','app_category','device_id','device_ip','device_model'\n",
        "# df_target_encoded = target_mean_encoding(train_test_1, col=['site_id','site_domain','site_category','app_id','app_domain','app_category','device_model'],\n",
        "#                                           target='y')"
      ]
    },
    {
      "cell_type": "code",
      "execution_count": null,
      "metadata": {
        "id": "S35KpC0T-agP"
      },
      "outputs": [],
      "source": [
        "\"\"\"\n",
        "Lấy mẫu dữ liệu 10% trên 5tr dòng\n",
        "Ex code:\n",
        "# Load your data into a PySpark dataframe\n",
        "df = spark.read.csv(\"your_data.csv\", header=True, inferSchema=True)\n",
        "\n",
        "# Randomly sample 5000 rows from the dataframe\n",
        "df_sample = df.sample(withReplacement=False, fraction=5000/df.count(), seed=123)\n",
        "\n",
        "# Show the first 10 rows of the sampled dataframe\n",
        "df_sample.show(10)\n",
        "\n",
        "\"\"\"\n",
        "sampled_data = train.sample(fraction=0.25, seed=42)\n",
        "# # X = sampled_data.drop(\"y\")\n",
        "# # y = sampled_data.select(\"y\")"
      ]
    },
    {
      "cell_type": "code",
      "source": [
        "train"
      ],
      "metadata": {
        "colab": {
          "base_uri": "https://localhost:8080/"
        },
        "id": "eHg-uEYPcPRu",
        "outputId": "67bf50f0-f3c6-474d-eec9-42573c95143b"
      },
      "execution_count": null,
      "outputs": [
        {
          "output_type": "execute_result",
          "data": {
            "text/plain": [
              "DataFrame[index: string, id: string, click: int, hour: string, C1: int, banner_pos: int, site_id: string, site_domain: string, site_category: string, app_id: string, app_domain: string, app_category: string, device_id: string, device_ip: string, device_model: string, device_type: int, device_conn_type: int, C14: int, C15: int, C16: int, C17: int, C18: int, C19: int, C20: int, C21: int]"
            ]
          },
          "metadata": {},
          "execution_count": 12
        }
      ]
    },
    {
      "cell_type": "code",
      "execution_count": null,
      "metadata": {
        "id": "igxXHl75-agP",
        "colab": {
          "base_uri": "https://localhost:8080/",
          "height": 590
        },
        "outputId": "0a5e554b-c885-42bc-ba72-a45a3844c538"
      },
      "outputs": [
        {
          "output_type": "stream",
          "name": "stdout",
          "text": [
            "+---+-------+---------+\n",
            "|  y|  count|    ratio|\n",
            "+---+-------+---------+\n",
            "|  1| 850412|0.1700824|\n",
            "|  0|4149588|0.8299176|\n",
            "+---+-------+---------+\n",
            "\n"
          ]
        },
        {
          "output_type": "display_data",
          "data": {
            "text/plain": [
              "<Figure size 640x480 with 0 Axes>"
            ]
          },
          "metadata": {}
        },
        {
          "output_type": "display_data",
          "data": {
            "text/plain": [
              "<Figure size 640x480 with 1 Axes>"
            ],
            "image/png": "[encoded data removed]"
          },
          "metadata": {}
        }
      ],
      "source": [
        "import matplotlib.pyplot as plt\n",
        "\n",
        "output_dist = train.groupBy(\"y\").count().withColumn(\"ratio\", col(\"count\") / train.count())\n",
        "output_dist.show()\n",
        "plt.figure()\n",
        "output_dist.toPandas().plot(kind=\"bar\", x=\"y\", y=\"ratio\")\n",
        "plt.show()"
      ]
    },
    {
      "cell_type": "code",
      "execution_count": null,
      "metadata": {
        "id": "pMvEx-5h-agQ"
      },
      "outputs": [],
      "source": [
        "# Chia dữ liệu thành tập huấn luyện và tập kiểm tra theo tỷ lệ 70:30\n",
        "(trainingData, testData) = sampled_data.randomSplit([0.7, 0.3], seed=1234)"
      ]
    },
    {
      "cell_type": "code",
      "source": [
        "\n",
        "#Write DataFrame to CSV file\n",
        "testData.write.csv(\"/content/drive/MyDrive/data_ctr/testData\")"
      ],
      "metadata": {
        "id": "O7kZAF7oJpo3"
      },
      "execution_count": null,
      "outputs": []
    },
    {
      "cell_type": "code",
      "execution_count": null,
      "metadata": {
        "id": "5WjvEdukL5Li",
        "colab": {
          "base_uri": "https://localhost:8080/",
          "height": 590
        },
        "outputId": "e6e36f1d-8e77-4ce2-d508-715063d2befc"
      },
      "outputs": [
        {
          "output_type": "stream",
          "name": "stdout",
          "text": [
            "+---+------+-------------------+\n",
            "|  y| count|              ratio|\n",
            "+---+------+-------------------+\n",
            "|  1|149125|0.17010003536027557|\n",
            "|  0|727565| 0.8298999646397244|\n",
            "+---+------+-------------------+\n",
            "\n"
          ]
        },
        {
          "output_type": "display_data",
          "data": {
            "text/plain": [
              "<Figure size 640x480 with 0 Axes>"
            ]
          },
          "metadata": {}
        },
        {
          "output_type": "display_data",
          "data": {
            "text/plain": [
              "<Figure size 640x480 with 1 Axes>"
            ],
            "image/png": "[encoded data removed]"
          },
          "metadata": {}
        }
      ],
      "source": [
        "import matplotlib.pyplot as plt\n",
        "\n",
        "output_dist = trainingData.groupBy(\"y\").count().withColumn(\"ratio\", col(\"count\") / trainingData.count())\n",
        "output_dist.show()\n",
        "plt.figure()\n",
        "output_dist.toPandas().plot(kind=\"bar\", x=\"y\", y=\"count\")\n",
        "plt.show()"
      ]
    },
    {
      "cell_type": "code",
      "execution_count": null,
      "metadata": {
        "id": "TXSxokYiL_pU",
        "colab": {
          "base_uri": "https://localhost:8080/"
        },
        "outputId": "b98452c6-c5d7-416b-fd93-393063e3151e"
      },
      "outputs": [
        {
          "output_type": "stream",
          "name": "stdout",
          "text": [
            "+---+------+-------------------+\n",
            "|  y| count|              ratio|\n",
            "+---+------+-------------------+\n",
            "|  1| 63694|0.16982213654772665|\n",
            "|  0|311369| 0.8301778634522734|\n",
            "+---+------+-------------------+\n",
            "\n"
          ]
        },
        {
          "output_type": "display_data",
          "data": {
            "text/plain": [
              "<Figure size 640x480 with 0 Axes>"
            ]
          },
          "metadata": {}
        },
        {
          "output_type": "display_data",
          "data": {
            "text/plain": [
              "<Figure size 640x480 with 1 Axes>"
            ],
            "image/png": "[encoded data removed]"
          },
          "metadata": {}
        }
      ],
      "source": [
        "import matplotlib.pyplot as plt\n",
        "\n",
        "output_dist = testData.groupBy(\"y\").count().withColumn(\"ratio\", col(\"count\") / testData.count())\n",
        "output_dist.show()\n",
        "plt.figure()\n",
        "output_dist.toPandas().plot(kind=\"bar\", x=\"y\", y=\"count\")\n",
        "plt.show()"
      ]
    },
    {
      "cell_type": "code",
      "execution_count": null,
      "metadata": {
        "id": "w0c4kD4V-agQ"
      },
      "outputs": [],
      "source": [
        "# tạo pipeline luôn"
      ]
    },
    {
      "cell_type": "code",
      "source": [
        "list_features = ['site_domain','site_id','app_category','app_domain'\n",
        ",'site_category','C16','C21','app_id'\n",
        ",'C18','device_type','banner_pos','device_model'\n",
        ",'device_conn_type','C17','device_id','C19']"
      ],
      "metadata": {
        "id": "9z9F67Y6jtz0"
      },
      "execution_count": null,
      "outputs": []
    },
    {
      "cell_type": "code",
      "execution_count": null,
      "metadata": {
        "id": "Hajo0_fU-agQ"
      },
      "outputs": [],
      "source": [
        "from pyspark.ml.feature import StringIndexer\n",
        "# indexers = [StringIndexer(inputCol=column, outputCol=column+\"_index\",).setHandleInvalid(\"keep\") for column in list(x for x in set(train.columns) if x in {'site_id','site_domain','site_category','app_id','app_domain','app_category','device_id','device_ip','device_model'})]\n",
        "indexers = [StringIndexer(inputCol=column, outputCol=column+\"_index\",).setHandleInvalid(\"keep\") for column in list(x for x in set(train.columns) if x in list_features)]"
      ]
    },
    {
      "cell_type": "code",
      "source": [
        "from pyspark.ml.feature import OneHotEncoder\n",
        "ohe = [OneHotEncoder(inputCol=column + '_index', outputCol=column+\"_index_ohe\",).setHandleInvalid(\"keep\") for column in list(x for x in set(train.columns) if x in list_features)]"
      ],
      "metadata": {
        "id": "gWOc_e4aj2No"
      },
      "execution_count": null,
      "outputs": []
    },
    {
      "cell_type": "code",
      "execution_count": null,
      "metadata": {
        "id": "IaTh_KY4-agQ"
      },
      "outputs": [],
      "source": [
        "assembler = VectorAssembler(inputCols=[col + '_index_ohe' for col in list_features], outputCol=\"features\")"
      ]
    },
    {
      "cell_type": "code",
      "execution_count": null,
      "metadata": {
        "id": "oN39i2F58D2J"
      },
      "outputs": [],
      "source": [
        "from pyspark.ml.feature import MinMaxScaler\n",
        "scalers = MinMaxScaler(inputCol=\"features\", outputCol=\"features_scaled\")"
      ]
    },
    {
      "cell_type": "code",
      "execution_count": null,
      "metadata": {
        "id": "mtvXnRda-agQ"
      },
      "outputs": [],
      "source": [
        "lr = LogisticRegression(labelCol=\"y\", featuresCol=\"features_scaled\")"
      ]
    },
    {
      "cell_type": "code",
      "execution_count": null,
      "metadata": {
        "id": "nEXxhBtA-agR"
      },
      "outputs": [],
      "source": [
        "pipeline = Pipeline(stages= indexers + ohe + [assembler,scalers, lr])"
      ]
    },
    {
      "cell_type": "code",
      "execution_count": null,
      "metadata": {
        "id": "kUwGkxp--agS"
      },
      "outputs": [],
      "source": [
        "# # old\n",
        "# # Huấn luyện pipeline trên tập huấn luyện\n",
        "# model = pipeline.fit(trainingData)"
      ]
    },
    {
      "cell_type": "code",
      "source": [
        "from pyspark.ml.evaluation import BinaryClassificationEvaluator\n",
        "from pyspark.ml.tuning import ParamGridBuilder, CrossValidator\n",
        "\n",
        "# Trains a model with CrossValidator\n",
        "paramGrid = ParamGridBuilder() \\\n",
        "        .addGrid(lr.threshold, [0.22]) \\\n",
        "        .addGrid(lr.elasticNetParam, [0.0]) \\\n",
        "        .addGrid(lr.regParam, [0.001]) \\\n",
        "        .addGrid(lr.maxIter, [100]) \\\n",
        "        .build()\n",
        "\n",
        "cv = CrossValidator(estimator=pipeline,\n",
        "                        evaluator=BinaryClassificationEvaluator(labelCol = 'y'),\n",
        "                        estimatorParamMaps=paramGrid,\n",
        "                        numFolds=3)\n",
        "\n",
        "cvModel = cv.fit(trainingData)"
      ],
      "metadata": {
        "id": "Z3C24gjMq94i"
      },
      "execution_count": null,
      "outputs": []
    },
    {
      "cell_type": "code",
      "execution_count": null,
      "metadata": {
        "id": "Y72CKdlCcZ3S"
      },
      "outputs": [],
      "source": [
        "cvModel.write().overwrite().save('/content/drive/MyDrive/data_ctr/model_logictic_imbalanced_with_fearture_eng_and_cross_train/')"
      ]
    },
    {
      "cell_type": "code",
      "source": [
        "predictions = cvModel.transform(testData)"
      ],
      "metadata": {
        "id": "TsNySyH831KV"
      },
      "execution_count": null,
      "outputs": []
    },
    {
      "cell_type": "code",
      "execution_count": null,
      "metadata": {
        "id": "E2yBmcXAfrYn"
      },
      "outputs": [],
      "source": [
        "confusionMatrix = predictions.select(\"y\", \"prediction\") \\\n",
        "    .rdd.map(lambda x: (x[1], x[0])) \\\n",
        "    .countByValue()"
      ]
    },
    {
      "cell_type": "code",
      "execution_count": null,
      "metadata": {
        "colab": {
          "base_uri": "https://localhost:8080/"
        },
        "id": "bfG67Dz0gYD1",
        "outputId": "66250c70-5afd-4781-c582-128ced2fff80"
      },
      "outputs": [
        {
          "output_type": "stream",
          "name": "stdout",
          "text": [
            "Confusion Matrix:\n",
            "True Positive:  13236\n",
            "False Positive:  28817\n",
            "True Negative:  95636\n",
            "False Negative:  11988\n",
            "Precision:  0.314745678072908\n",
            "Recall:  0.5247383444338725\n",
            "F1-Score:  0.39347771155075284\n"
          ]
        }
      ],
      "source": [
        "truePositive = confusionMatrix[(1, 1)]\n",
        "falsePositive = confusionMatrix[(1, 0)]\n",
        "trueNegative = confusionMatrix[(0, 0)]\n",
        "falseNegative = confusionMatrix[(0, 1)]\n",
        "\n",
        "# Tính toán precision, recall và F1-score\n",
        "precision = truePositive / (truePositive + falsePositive)\n",
        "recall = truePositive / (truePositive + falseNegative)\n",
        "f1Score = 2 * precision * recall / (precision + recall)\n",
        "\n",
        "print(\"Confusion Matrix:\")\n",
        "print(\"True Positive: \", truePositive)\n",
        "print(\"False Positive: \", falsePositive)\n",
        "print(\"True Negative: \", trueNegative)\n",
        "print(\"False Negative: \", falseNegative)\n",
        "print(\"Precision: \", precision)\n",
        "print(\"Recall: \", recall)\n",
        "print(\"F1-Score: \", f1Score)"
      ]
    },
    {
      "cell_type": "markdown",
      "metadata": {
        "id": "tpyf7Q1bsUpq"
      },
      "source": [
        "Kết luận: Kết quả của mình tệ hợn có thể đến từ các yếu tố sau\n",
        "+ Bộ encoder khác nhau\n",
        "+ Chưa Standard Scaler\n",
        "+ Đang Train ít dữ liệu"
      ]
    },
    {
      "cell_type": "markdown",
      "metadata": {
        "id": "01iNi3EktPDJ"
      },
      "source": [
        "Lưu ý:\n",
        "+ Mỗi mần chạy thuật toán mới thì sẽ tạo ra X_train X_test riêng (theo tác giả) rồi mới làm các bước chuẩn hóa sau ví dụ StandardScaler"
      ]
    },
    {
      "cell_type": "markdown",
      "source": [
        "Bài được combine 2 source"
      ],
      "metadata": {
        "id": "Rx-e6LQkrXSf"
      }
    },
    {
      "cell_type": "markdown",
      "source": [
        "# Dessision Tree"
      ],
      "metadata": {
        "id": "RNyMpXaaPp99"
      }
    },
    {
      "cell_type": "code",
      "source": [
        "\"\"\"\n",
        "Lấy mẫu dữ liệu 10% trên 5tr dòng\n",
        "Ex code:\n",
        "# Load your data into a PySpark dataframe\n",
        "df = spark.read.csv(\"your_data.csv\", header=True, inferSchema=True)\n",
        "\n",
        "# Randomly sample 5000 rows from the dataframe\n",
        "df_sample = df.sample(withReplacement=False, fraction=5000/df.count(), seed=123)\n",
        "\n",
        "# Show the first 10 rows of the sampled dataframe\n",
        "df_sample.show(10)\n",
        "\n",
        "\"\"\"\n",
        "sampled_data = train.sample(fraction=0.05, seed=42)\n",
        "# # X = sampled_data.drop(\"y\")\n",
        "# # y = sampled_data.select(\"y\")"
      ],
      "metadata": {
        "id": "heAkbveRPvrR"
      },
      "execution_count": null,
      "outputs": []
    },
    {
      "cell_type": "code",
      "source": [
        "# Chia dữ liệu thành tập huấn luyện và tập kiểm tra theo tỷ lệ 70:30\n",
        "(trainingData, testData) = sampled_data.randomSplit([0.7, 0.3], seed=1234)"
      ],
      "metadata": {
        "id": "9bkxMAQmS-kV"
      },
      "execution_count": null,
      "outputs": []
    },
    {
      "cell_type": "code",
      "source": [
        "list_features = [\n",
        "    'device_id', 'device_model',\n",
        "    'hour', 'site_id',\n",
        "    'app_id', 'day',\n",
        "    'dayofweek', 'C17'\n",
        "]"
      ],
      "metadata": {
        "id": "3PYasraHTZCR"
      },
      "execution_count": null,
      "outputs": []
    },
    {
      "cell_type": "code",
      "source": [
        "from pyspark.ml.feature import StringIndexer\n",
        "# indexers = [StringIndexer(inputCol=column, outputCol=column+\"_index\",).setHandleInvalid(\"keep\") for column in list(x for x in set(train.columns) if x in {'site_id','site_domain','site_category','app_id','app_domain','app_category','device_id','device_ip','device_model'})]\n",
        "indexers = [StringIndexer(inputCol=column, outputCol=column+\"_index\",).setHandleInvalid(\"keep\") for column in list(x for x in set(train.columns) if x in list_features)]"
      ],
      "metadata": {
        "id": "0igkKk0iWfdz"
      },
      "execution_count": null,
      "outputs": []
    },
    {
      "cell_type": "code",
      "source": [
        "from pyspark.ml.feature import OneHotEncoder\n",
        "ohe = [OneHotEncoder(inputCol=column + '_index', outputCol=column+\"_index_ohe\",).setHandleInvalid(\"keep\") for column in list(x for x in set(train.columns) if x in list_features)]"
      ],
      "metadata": {
        "id": "W5bXcHOVWiVj"
      },
      "execution_count": null,
      "outputs": []
    },
    {
      "cell_type": "code",
      "source": [
        "assembler = VectorAssembler(inputCols=[col + '_index_ohe' for col in list_features], outputCol=\"features\")"
      ],
      "metadata": {
        "id": "3iSboMkTWjY-"
      },
      "execution_count": null,
      "outputs": []
    },
    {
      "cell_type": "code",
      "source": [
        "from pyspark.ml.feature import MinMaxScaler\n",
        "scalers = MinMaxScaler(inputCol=\"features\", outputCol=\"features_scaled\")"
      ],
      "metadata": {
        "id": "7VSLbuNIWk2z"
      },
      "execution_count": null,
      "outputs": []
    },
    {
      "cell_type": "code",
      "source": [
        "from pyspark.ml.classification import DecisionTreeClassifier\n",
        "dtree = DecisionTreeClassifier(labelCol=\"y\", featuresCol=\"features_scaled\")"
      ],
      "metadata": {
        "id": "dZG3GPz5VWF5"
      },
      "execution_count": null,
      "outputs": []
    },
    {
      "cell_type": "code",
      "source": [
        "pipeline = Pipeline(stages= indexers + ohe + [assembler,scalers, dtree])"
      ],
      "metadata": {
        "id": "64W6eMekVwCv"
      },
      "execution_count": null,
      "outputs": []
    },
    {
      "cell_type": "code",
      "source": [
        "from pyspark.ml.evaluation import BinaryClassificationEvaluator\n",
        "from pyspark.ml.tuning import ParamGridBuilder, CrossValidator\n",
        "\n",
        "# Trains a model with CrossValidator\n",
        "paramGrid = ParamGridBuilder() \\\n",
        "        .addGrid(dtree.maxDepth, [14]) \\\n",
        "        .build()\n",
        "        # .addGrid(dtree.thresholds, dtree.setThresholds([0.22])) \\\n",
        "cv_dtree = CrossValidator(estimator=pipeline,\n",
        "                        evaluator=BinaryClassificationEvaluator(labelCol = 'y'),\n",
        "                        estimatorParamMaps=paramGrid,\n",
        "                        numFolds=3)\n",
        "\n",
        "cvModel = cv_dtree.fit(trainingData)"
      ],
      "metadata": {
        "id": "soEkJONvWxH9"
      },
      "execution_count": null,
      "outputs": []
    },
    {
      "cell_type": "code",
      "source": [
        "cvModel.write().overwrite().save('/content/drive/MyDrive/data_ctr/model_dtree_2_imbalanced_with_fearture_eng_and_cross_train/')"
      ],
      "metadata": {
        "id": "9QiN6k_iWz9Y"
      },
      "execution_count": null,
      "outputs": []
    },
    {
      "cell_type": "code",
      "source": [
        "predictions = cvModel.transform(testData)\n",
        "confusionMatrix = predictions.select(\"y\", \"prediction\") \\\n",
        "    .rdd.map(lambda x: (x[1], x[0])) \\\n",
        "    .countByValue()\n",
        "truePositive = confusionMatrix[(1, 1)]\n",
        "falsePositive = confusionMatrix[(1, 0)]\n",
        "trueNegative = confusionMatrix[(0, 0)]\n",
        "falseNegative = confusionMatrix[(0, 1)]\n",
        "\n",
        "# Tính toán precision, recall và F1-score\n",
        "precision = truePositive / (truePositive + falsePositive)\n",
        "recall = truePositive / (truePositive + falseNegative)\n",
        "f1Score = 2 * precision * recall / (precision + recall)\n",
        "\n",
        "print(\"Confusion Matrix:\")\n",
        "print(\"True Positive: \", truePositive)\n",
        "print(\"False Positive: \", falsePositive)\n",
        "print(\"True Negative: \", trueNegative)\n",
        "print(\"False Negative: \", falseNegative)\n",
        "print(\"Precision: \", precision)\n",
        "print(\"Recall: \", recall)\n",
        "print(\"F1-Score: \", f1Score)"
      ],
      "metadata": {
        "colab": {
          "base_uri": "https://localhost:8080/"
        },
        "id": "oHO4lO1b3hbt",
        "outputId": "6f39c50d-0327-492a-abfa-b41a5e641f9d"
      },
      "execution_count": null,
      "outputs": [
        {
          "output_type": "stream",
          "name": "stdout",
          "text": [
            "Confusion Matrix:\n",
            "True Positive:  726\n",
            "False Positive:  597\n",
            "True Negative:  61722\n",
            "False Negative:  12009\n",
            "Precision:  0.5487528344671202\n",
            "Recall:  0.05700824499411072\n",
            "F1-Score:  0.10328638497652581\n"
          ]
        }
      ]
    }
  ],
  "metadata": {
    "colab": {
      "provenance": []
    },
    "kernelspec": {
      "display_name": "Python 3",
      "name": "python3"
    },
    "language_info": {
      "codemirror_mode": {
        "name": "ipython",
        "version": 3
      },
      "file_extension": ".py",
      "mimetype": "text/x-python",
      "name": "python",
      "nbconvert_exporter": "python",
      "pygments_lexer": "ipython3",
      "version": "3.9.4"
    }
  },
  "nbformat": 4,
  "nbformat_minor": 0
}